{
 "cells": [
  {
   "cell_type": "code",
   "execution_count": 1,
   "id": "b0459ae1",
   "metadata": {},
   "outputs": [],
   "source": [
    "from faker import Faker\n",
    "import random\n",
    "import pandas as pd\n",
    "\n",
    "# Create a Faker object\n",
    "fake = Faker()\n",
    "\n",
    "# Number of players and opponent teams\n",
    "num_players = 10\n",
    "num_opponent_teams = 5\n",
    "\n",
    "# Generate player names\n",
    "player_names = [fake.name() for _ in range(num_players)]\n",
    "\n",
    "# Generate team names for both own team and opponent teams\n",
    "team_names = [fake.word() + ' ' + fake.word() + ' FC' for _ in range(num_opponent_teams)]\n",
    "opponent_teams = [team_name for team_name in team_names]\n",
    "\n",
    "# Create a dictionary to keep track of goals scored by each player against each opponent team\n",
    "player_goals = {player_name: {team: 0 for team in opponent_teams} for player_name in player_names}\n",
    "\n",
    "# Create an empty list to store the data\n",
    "data = []\n",
    "\n",
    "# Generate fake soccer matches\n",
    "while any(player_goals[player_name][team] < 50 for player_name in player_names for team in opponent_teams):\n",
    "    player_name = random.choice(player_names)\n",
    "    opponent_team = random.choice(opponent_teams)\n",
    "    \n",
    "    # Check if the player has scored less than 50 goals against the opponent team\n",
    "    if player_goals[player_name][opponent_team] < 50:\n",
    "        city = fake.city()\n",
    "        goals_scored = random.randint(0, 5)\n",
    "        match_result = 'Win' if goals_scored > 0 else 'Lose'\n",
    "        \n",
    "        # Update the number of goals scored by the player against the opponent team\n",
    "        player_goals[player_name][opponent_team] += goals_scored\n",
    "        \n",
    "        # Append the match data to the list\n",
    "        data.append([player_name, player_name.split()[-1] + ' FC', opponent_team, city, goals_scored, match_result])\n",
    "\n",
    "# Create a DataFrame from the list of data\n",
    "columns = ['Player Name', 'Team Name', 'Opponent Team Name', 'City', 'Goals Scored', 'Match Result']\n",
    "df = pd.DataFrame(data, columns=columns)\n",
    "\n",
    "# Save the DataFrame to a CSV file\n",
    "df.to_csv('fake_soccer_dataset.csv', index=False)\n",
    "\n",
    "\n"
   ]
  },
  {
   "cell_type": "code",
   "execution_count": null,
   "id": "9eccd6a7",
   "metadata": {},
   "outputs": [],
   "source": [
    "df.head()"
   ]
  },
  {
   "cell_type": "code",
   "execution_count": 3,
   "id": "5d9ad2a9",
   "metadata": {},
   "outputs": [],
   "source": [
    "df['Match Result']=df['Match Result'].map({\"Win\":1,'Lose':0})"
   ]
  },
  {
   "cell_type": "code",
   "execution_count": null,
   "id": "98e9e225",
   "metadata": {},
   "outputs": [],
   "source": [
    "import numpy as np\n",
    "import pandas as pd\n",
    "from keras.models import Model\n",
    "from keras.layers import Input, Dense\n",
    "from sklearn.model_selection import train_test_split\n",
    "from sklearn.preprocessing import OneHotEncoder,LabelEncoder "
   ]
  },
  {
   "cell_type": "code",
   "execution_count": 5,
   "id": "eac90a34",
   "metadata": {},
   "outputs": [],
   "source": [
    "X = df.drop(['Goals Scored', 'Match Result'], axis=1)\n",
    "y_goal_scored = df['Goals Scored']\n",
    "y_match_winner = df['Match Result']"
   ]
  },
  {
   "cell_type": "code",
   "execution_count": null,
   "id": "f9a81f53",
   "metadata": {},
   "outputs": [],
   "source": [
    "encoder_player_name = LabelEncoder()\n",
    "encoder_team_name = LabelEncoder()\n",
    "encoder_opponent_team_name = LabelEncoder()\n",
    "encoder_city = LabelEncoder()\n",
    "\n",
    "X['Player Name'] = encoder_player_name.fit_transform(X['Player Name'])\n",
    "X['Team Name'] = encoder_team_name.fit_transform(X['Team Name'])\n",
    "X['Opponent Team Name'] = encoder_opponent_team_name.fit_transform(X['Opponent Team Name'])\n",
    "X['City'] = encoder_city.fit_transform(X['City'])\n",
    "\n",
    "# Convert categorical columns to one-hot encoding\n",
    "encoder = OneHotEncoder(sparse=False)\n",
    "X_encoded = encoder.fit_transform(X[['Player Name', 'Team Name', 'Opponent Team Name', 'City']])\n",
    "\n",
    "# Combine the one-hot encoded features with the remaining numeric features\n",
    "X_final = pd.concat([pd.DataFrame(X_encoded), X.drop(['Player Name', 'Team Name', 'Opponent Team Name', 'City'], axis=1)], axis=1)\n"
   ]
  },
  {
   "cell_type": "code",
   "execution_count": null,
   "id": "11b6075b",
   "metadata": {},
   "outputs": [],
   "source": [
    "X_final.head()"
   ]
  },
  {
   "cell_type": "code",
   "execution_count": 8,
   "id": "b5851437",
   "metadata": {},
   "outputs": [],
   "source": [
    "X_train, X_test, y_goal_scored_train, y_goal_scored_test, y_match_winner_train, y_match_winner_test = train_test_split(\n",
    "    X_final, y_goal_scored, y_match_winner, test_size=0.2, random_state=42)"
   ]
  },
  {
   "cell_type": "code",
   "execution_count": 9,
   "id": "3e3b55f5",
   "metadata": {},
   "outputs": [],
   "source": [
    "def create_model(input_dim):\n",
    "    inputs = Input(shape=(input_dim,))\n",
    "    x = Dense(64, activation='relu')(inputs)\n",
    "    x = Dense(64, activation='relu')(x)\n",
    "\n",
    "    # Separate output heads for goal scored and match winner\n",
    "    output_goal_scored = Dense(1, name='output_goal_scored')(x)\n",
    "    output_match_winner = Dense(1, activation='sigmoid', name='output_match_winner')(x)\n",
    "\n",
    "    model = Model(inputs=inputs, outputs=[output_goal_scored, output_match_winner])\n",
    "    model.compile(optimizer='adam', loss=['mean_squared_error', 'binary_crossentropy'])\n",
    "\n",
    "    return model"
   ]
  },
  {
   "cell_type": "code",
   "execution_count": null,
   "id": "dcc87df9",
   "metadata": {},
   "outputs": [],
   "source": [
    "input_dim = X_train.shape[1]\n",
    "model = create_model(input_dim)\n",
    "model.fit(X_train, [y_goal_scored_train, y_match_winner_train], epochs=50, batch_size=32)\n"
   ]
  },
  {
   "cell_type": "code",
   "execution_count": null,
   "id": "1fd054eb",
   "metadata": {},
   "outputs": [],
   "source": [
    "loss = model.evaluate(X_test, [y_goal_scored_test, y_match_winner_test])\n",
    "print(\"Loss for goal scored prediction:\", loss[0])\n",
    "print(\"Loss for match winner prediction:\", loss[1])\n"
   ]
  },
  {
   "cell_type": "code",
   "execution_count": 19,
   "id": "8de7c36c",
   "metadata": {},
   "outputs": [],
   "source": [
    "new_data_point = pd.DataFrame({\n",
    "    'Player Name': ['Justin Porter'],\n",
    "    'Team Name': ['Porter FC'],\n",
    "    'Opponent Team Name': ['throughout technology FC'],\n",
    "    'City': ['Dustinstad']\n",
    "})"
   ]
  },
  {
   "cell_type": "code",
   "execution_count": null,
   "id": "dcd7cd3a",
   "metadata": {},
   "outputs": [],
   "source": [
    "# Encode the new data point\n",
    "new_data_point['Player Name'] = encoder_player_name.transform(new_data_point['Player Name'])\n",
    "new_data_point['Team Name'] = encoder_team_name.transform(new_data_point['Team Name'])\n",
    "new_data_point['Opponent Team Name'] = encoder_opponent_team_name.transform(new_data_point['Opponent Team Name'])\n",
    "new_data_point['City'] = encoder_city.transform(new_data_point['City'])\n",
    "\n",
    "# Convert categorical columns to one-hot encoding and concatenate with numeric features\n",
    "new_data_point_encoded = encoder.transform(new_data_point[['Player Name', 'Team Name', 'Opponent Team Name', 'City']])\n",
    "new_data_point_final = pd.concat([pd.DataFrame(new_data_point_encoded), new_data_point.drop(['Player Name', 'Team Name', 'Opponent Team Name', 'City'], axis=1)], axis=1)\n",
    "\n",
    "# Make predictions\n",
    "predicted_goal_scored, predicted_match_winner = model.predict(new_data_point_final)\n",
    "print(\"Predicted goal scored:\", predicted_goal_scored[0][0])\n",
    "print(\"Predicted match winner probability:\", predicted_match_winner[0][0])\n"
   ]
  },
  {
   "cell_type": "code",
   "execution_count": 39,
   "id": "67b10388",
   "metadata": {},
   "outputs": [],
   "source": [
    "input_data={\n",
    "    'Player Name': 'Justin Porter',\n",
    "    'Team Name': 'Porter FC',\n",
    "    'Opponent Team Name': 'throughout technology FC',\n",
    "    'City': 'Dustinstad'\n",
    "}"
   ]
  },
  {
   "cell_type": "code",
   "execution_count": null,
   "id": "5429400f",
   "metadata": {},
   "outputs": [],
   "source": [
    "fake_var,predicted_match_winner = model.predict(new_data_point_final)\n",
    "result= int(predicted_match_winner[0][0])\n",
    "if result==1:\n",
    "    print(\"Yes,this team have high chance to win\")\n",
    "else:\n",
    "    print(\"this team have chance to lose this match\")"
   ]
  },
  {
   "cell_type": "code",
   "execution_count": null,
   "id": "602d5cc0",
   "metadata": {},
   "outputs": [],
   "source": [
    "predicted_goal_scored=model.predict(new_data_point_final)\n",
    "goal= predicted_goal_scored[0][0][0].round()\n",
    "\n",
    "print(f\"{input_data['Player Name']} can score {goal} goals\")\n"
   ]
  },
  {
   "cell_type": "code",
   "execution_count": null,
   "id": "72d49b8f",
   "metadata": {},
   "outputs": [],
   "source": []
  }
 ],
 "metadata": {
  "kernelspec": {
   "display_name": "Python 3",
   "language": "python",
   "name": "python3"
  },
  "language_info": {
   "codemirror_mode": {
    "name": "ipython",
    "version": 3
   },
   "file_extension": ".py",
   "mimetype": "text/x-python",
   "name": "python",
   "nbconvert_exporter": "python",
   "pygments_lexer": "ipython3",
   "version": "3.11.2"
  }
 },
 "nbformat": 4,
 "nbformat_minor": 5
}
